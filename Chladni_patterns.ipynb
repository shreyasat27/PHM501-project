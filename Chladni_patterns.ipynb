{
  "nbformat": 4,
  "nbformat_minor": 0,
  "metadata": {
    "colab": {
      "provenance": [],
      "authorship_tag": "ABX9TyN0n3O9OxHtCO80Dxj+kkA5",
      "include_colab_link": true
    },
    "kernelspec": {
      "name": "python3",
      "display_name": "Python 3"
    },
    "language_info": {
      "name": "python"
    }
  },
  "cells": [
    {
      "cell_type": "markdown",
      "metadata": {
        "id": "view-in-github",
        "colab_type": "text"
      },
      "source": [
        "<a href=\"https://colab.research.google.com/github/shreyasat27/PHM501-project/blob/main/Chladni_patterns.ipynb\" target=\"_parent\"><img src=\"https://colab.research.google.com/assets/colab-badge.svg\" alt=\"Open In Colab\"/></a>"
      ]
    },
    {
      "cell_type": "code",
      "execution_count": null,
      "metadata": {
        "id": "Yh8l-wacDO7P"
      },
      "outputs": [],
      "source": [
        "import numpy as np\n",
        "import matplotlib.pyplot as plt\n",
        "\n",
        "def generate_chladni_pattern(mode, size=100, frequency=1.0):\n",
        "    x, y = np.meshgrid(np.linspace(0, 1, size), np.linspace(0, 1, size))\n",
        "\n",
        "    # Generate Chladni pattern equation\n",
        "    pattern = np.sin(mode * np.pi * frequency * x) * np.sin(mode * np.pi * frequency * y)\n",
        "\n",
        "    return pattern\n",
        "\n",
        "def visualize_chladni_patterns(num_modes, size=100, frequency=1.0):\n",
        "    fig, axes = plt.subplots(1, num_modes, figsize=(15, 5))\n",
        "\n",
        "    for mode in range(1, num_modes + 1):\n",
        "        pattern = generate_chladni_pattern(mode, size, frequency)\n",
        "\n",
        "        axes[mode - 1].imshow(pattern, cmap='viridis', extent=(0, 1, 0, 1))\n",
        "        axes[mode - 1].set_title(f'Mode {mode}')\n",
        "        axes[mode - 1].axis('off')\n",
        "\n",
        "    plt.show()\n",
        "\n",
        "# Adjust the parameters as needed\n",
        "visualize_chladni_patterns(num_modes=10, size=100, frequency=33)"
      ]
    }
  ]
}